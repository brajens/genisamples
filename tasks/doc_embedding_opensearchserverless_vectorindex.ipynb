{
 "cells": [
  {
   "cell_type": "markdown",
   "id": "518ee278-2221-47f1-bff8-7a83fff5a6b6",
   "metadata": {},
   "source": [
    "## Shows coverting document into embedding and storing in Amazon OpenSearch Serverless Vector Engine\n",
    "### Used for semantic search"
   ]
  },
  {
   "cell_type": "code",
   "execution_count": null,
   "id": "48701ab7-884e-4257-ad08-34b158174c3c",
   "metadata": {
    "tags": []
   },
   "outputs": [],
   "source": [
    "!pip -q install langchain \n",
    "!pip -q install PyPDF2\n",
    "!pip -q install requests\n",
    "!pip -q install opensearch-py"
   ]
  },
  {
   "cell_type": "markdown",
   "id": "8a783fe4-cb51-4aec-9c52-742209a23e0d",
   "metadata": {},
   "source": [
    "### Use the links given to create Opensearch Serverless Collection and a vector index\n",
    "https://aws.amazon.com/blogs/big-data/introducing-the-vector-engine-for-amazon-opensearch-serverless-now-in-preview/\n",
    "https://docs.aws.amazon.com/opensearch-service/latest/developerguide/serverless-vector-search.html"
   ]
  },
  {
   "cell_type": "markdown",
   "id": "d6e9e06e-cf9a-403d-b16d-553ba4a515f2",
   "metadata": {
    "tags": []
   },
   "source": [
    "#### For this sample code the following configuration is used\n",
    "##### vector index name = \"myvectorindex\" \n",
    "##### vector field name = \"myvector\" \n",
    "##### vector dimension = 4096 (because we are using \"GPT-J 6B Embedding\" FM for generating embedding and it creates enbedding of 4096 dimensions)\n"
   ]
  },
  {
   "cell_type": "markdown",
   "id": "cbd0cb60-80f0-4dab-ab5d-557c98e9d666",
   "metadata": {},
   "source": [
    "### Creating Client for the OpenSearch. \n",
    "##### Update collection id for the host name"
   ]
  },
  {
   "cell_type": "code",
   "execution_count": null,
   "id": "c0108a8e-81dc-4ba7-9030-12ffa9a61c20",
   "metadata": {
    "tags": []
   },
   "outputs": [],
   "source": [
    "from opensearchpy import OpenSearch, RequestsHttpConnection, AWSV4SignerAuth\n",
    "import boto3"
   ]
  },
  {
   "cell_type": "code",
   "execution_count": null,
   "id": "953f6fe4-756a-4157-8ecb-2f4e2d9cff62",
   "metadata": {
    "tags": []
   },
   "outputs": [],
   "source": [
    "host = '<Opensearch Collection Id'  # Update collection id\n",
    "region = boto3.Session().region_name\n",
    "service = 'aoss'\n",
    "credentials = boto3.Session().get_credentials()\n",
    "auth = AWSV4SignerAuth(credentials, region, service)\n",
    "myindex = \"myvectorindex\""
   ]
  },
  {
   "cell_type": "code",
   "execution_count": null,
   "id": "c8af2841-e47e-4413-976e-e605697a70c4",
   "metadata": {
    "tags": []
   },
   "outputs": [],
   "source": [
    "client = OpenSearch(\n",
    "    hosts=[{'host': host, 'port': 443}],\n",
    "    http_auth=auth,\n",
    "    use_ssl=True,\n",
    "    verify_certs=True,\n",
    "    connection_class=RequestsHttpConnection,\n",
    "    pool_maxsize=20,\n",
    ")"
   ]
  },
  {
   "cell_type": "markdown",
   "id": "d0fb0193-98bb-4581-8e51-70908fa8d3eb",
   "metadata": {},
   "source": [
    "### Reading document file and load text into a variable"
   ]
  },
  {
   "cell_type": "code",
   "execution_count": null,
   "id": "ccb2c09d-61bc-478e-97c2-e83956b48290",
   "metadata": {
    "tags": []
   },
   "outputs": [],
   "source": [
    "from PyPDF2 import PdfReader"
   ]
  },
  {
   "cell_type": "code",
   "execution_count": null,
   "id": "9e33eefe-1b09-4efc-8680-625fad53bc72",
   "metadata": {
    "tags": []
   },
   "outputs": [],
   "source": [
    "# used one pdf file store in local folder as the document\n",
    "reader = PdfReader('./content/impromptu-rh.pdf')"
   ]
  },
  {
   "cell_type": "code",
   "execution_count": null,
   "id": "42312ccc-2b22-4f89-a150-cf0e4e9464c0",
   "metadata": {
    "tags": []
   },
   "outputs": [],
   "source": [
    "# Extract the text from the PDF document\n",
    "raw_text = ''\n",
    "for i, page in enumerate(reader.pages):\n",
    "    text = page.extract_text()\n",
    "    if text:\n",
    "        raw_text += text"
   ]
  },
  {
   "cell_type": "code",
   "execution_count": null,
   "id": "09feb9b7-209a-46d8-9ea6-31ff09b8cdc1",
   "metadata": {
    "tags": []
   },
   "outputs": [],
   "source": [
    "print(len(raw_text))"
   ]
  },
  {
   "cell_type": "markdown",
   "id": "bd2b43c1-0088-44ec-89ff-defff8072e8c",
   "metadata": {},
   "source": [
    "## Create chunks of the text. Text Embedding is generated for each chunk"
   ]
  },
  {
   "cell_type": "code",
   "execution_count": null,
   "id": "e127fe0f-4e59-4fa8-95d0-798bbb658052",
   "metadata": {
    "tags": []
   },
   "outputs": [],
   "source": [
    "from langchain.text_splitter import RecursiveCharacterTextSplitter"
   ]
  },
  {
   "cell_type": "code",
   "execution_count": null,
   "id": "50687ece-4688-4c1e-b7c5-ca55d5b13bce",
   "metadata": {
    "tags": []
   },
   "outputs": [],
   "source": [
    "text_splitter = RecursiveCharacterTextSplitter(\n",
    "    chunk_size = 1000,\n",
    "    chunk_overlap  = 200,\n",
    "    length_function = len\n",
    ")"
   ]
  },
  {
   "cell_type": "code",
   "execution_count": null,
   "id": "7ee8aecd-d15d-46f9-b34c-ee0deb31dbe2",
   "metadata": {},
   "outputs": [],
   "source": [
    "textchunks = text_splitter.split_text(raw_text)\n",
    "len(textchunks)"
   ]
  },
  {
   "cell_type": "markdown",
   "id": "91b85223-9ea6-4ff8-9b20-0a4e99b11dc1",
   "metadata": {
    "tags": []
   },
   "source": [
    "### Using gpt-j-6b FM model from SageMaker JumpStart for embedding\n",
    "### Deploy gpt-j-6b FM model from SageMaker JumpStart\n",
    "### Update SageMaker Endpoint \n",
    "### Store embedding along with the text in the Opensearch vector index"
   ]
  },
  {
   "cell_type": "code",
   "execution_count": null,
   "id": "e7cf437a-8475-4130-b274-fef56e19fa88",
   "metadata": {
    "tags": []
   },
   "outputs": [],
   "source": [
    "import sagemaker,json"
   ]
  },
  {
   "cell_type": "code",
   "execution_count": null,
   "id": "298ba5b8-1b08-42d7-aee0-f40cf1a01d4d",
   "metadata": {
    "tags": []
   },
   "outputs": [],
   "source": [
    "modelendpoint = \"<SageMaker Endpoint Name>\""
   ]
  },
  {
   "cell_type": "code",
   "execution_count": null,
   "id": "1ab47875-08af-4c9a-a77c-bbde6f17a330",
   "metadata": {
    "tags": []
   },
   "outputs": [],
   "source": [
    "thenewline=  \"\\n\"\n",
    "\n",
    "##  Call SagaMaker Endpoint to get emedding for the text\n",
    "def get_emedding(inputtext):\n",
    "    client = boto3.client(\"runtime.sagemaker\")\n",
    "    response = client.invoke_endpoint(\n",
    "        EndpointName=modelendpoint, ContentType=\"application/x-text\", Body=inputtext.encode(\"utf-8\")\n",
    "    )\n",
    "    model_predictions = json.loads(response[\"Body\"].read())\n",
    "    text_embedding = model_predictions[\"embedding\"]\n",
    "    return text_embedding[0]\n",
    "\n",
    "## Create payload for vector index and create a record\n",
    "def create_document(vec,txt):\n",
    "    payload = {\n",
    "      \"myvector\": vec,\n",
    "      \"mytext\": txt\n",
    "    }\n",
    "    client.index(index=myindex, body=payload)"
   ]
  },
  {
   "cell_type": "code",
   "execution_count": null,
   "id": "a9f2c084-6f25-42c7-94e5-d0d57f659502",
   "metadata": {
    "tags": []
   },
   "outputs": [],
   "source": [
    "## Going over all the text chunks and insering the the vector index\n",
    "for txt in textchunks:\n",
    "    vec = get_emedding(txt)\n",
    "    create_document(vec,txt)"
   ]
  },
  {
   "cell_type": "markdown",
   "id": "a4b41781-db64-4410-8655-dbe6cefd2c7e",
   "metadata": {},
   "source": [
    "### KNN Search into the Opensearch Vector Index"
   ]
  },
  {
   "cell_type": "code",
   "execution_count": null,
   "id": "f78fbe6e-4fd3-4092-8a9d-f6ac34c4c581",
   "metadata": {
    "tags": []
   },
   "outputs": [],
   "source": [
    "query = \"Professor Mintz, frankly, excelled as a professor long before the development of LLMs.\"\n",
    "vquery = get_emedding(query)\n",
    "search_query = {\"query\": {\"knn\": {\"myvector\": {\"vector\": vquery, \"k\": 3}}}}\n",
    "response = client.search(\n",
    "    index=myindex,\n",
    "    body=search_query\n",
    ")"
   ]
  },
  {
   "cell_type": "code",
   "execution_count": null,
   "id": "b4ce3ce0-21b0-4775-8c2f-d917f4275251",
   "metadata": {
    "tags": []
   },
   "outputs": [],
   "source": [
    "# Take first search or nth search\n",
    "n=0\n",
    "print((response[\"hits\"][\"hits\"][n][\"_source\"][\"mytext\"]))"
   ]
  },
  {
   "cell_type": "code",
   "execution_count": null,
   "id": "836b24f9-1080-47df-ac34-f6d473622ab9",
   "metadata": {
    "tags": []
   },
   "outputs": [],
   "source": [
    "# Collect all search in the full context\n",
    "fullcontext = \"\"\n",
    "for h in response[\"hits\"][\"hits\"]:\n",
    "    txt = h[\"_source\"][\"mytext\"]\n",
    "    fullcontext = fullcontext + txt + thenewline\n",
    "print(fullcontext)"
   ]
  },
  {
   "cell_type": "code",
   "execution_count": null,
   "id": "f04a5487-393d-4872-9c80-60324c7785e4",
   "metadata": {},
   "outputs": [],
   "source": []
  }
 ],
 "metadata": {
  "availableInstances": [
   {
    "_defaultOrder": 0,
    "_isFastLaunch": true,
    "category": "General purpose",
    "gpuNum": 0,
    "hideHardwareSpecs": false,
    "memoryGiB": 4,
    "name": "ml.t3.medium",
    "vcpuNum": 2
   },
   {
    "_defaultOrder": 1,
    "_isFastLaunch": false,
    "category": "General purpose",
    "gpuNum": 0,
    "hideHardwareSpecs": false,
    "memoryGiB": 8,
    "name": "ml.t3.large",
    "vcpuNum": 2
   },
   {
    "_defaultOrder": 2,
    "_isFastLaunch": false,
    "category": "General purpose",
    "gpuNum": 0,
    "hideHardwareSpecs": false,
    "memoryGiB": 16,
    "name": "ml.t3.xlarge",
    "vcpuNum": 4
   },
   {
    "_defaultOrder": 3,
    "_isFastLaunch": false,
    "category": "General purpose",
    "gpuNum": 0,
    "hideHardwareSpecs": false,
    "memoryGiB": 32,
    "name": "ml.t3.2xlarge",
    "vcpuNum": 8
   },
   {
    "_defaultOrder": 4,
    "_isFastLaunch": true,
    "category": "General purpose",
    "gpuNum": 0,
    "hideHardwareSpecs": false,
    "memoryGiB": 8,
    "name": "ml.m5.large",
    "vcpuNum": 2
   },
   {
    "_defaultOrder": 5,
    "_isFastLaunch": false,
    "category": "General purpose",
    "gpuNum": 0,
    "hideHardwareSpecs": false,
    "memoryGiB": 16,
    "name": "ml.m5.xlarge",
    "vcpuNum": 4
   },
   {
    "_defaultOrder": 6,
    "_isFastLaunch": false,
    "category": "General purpose",
    "gpuNum": 0,
    "hideHardwareSpecs": false,
    "memoryGiB": 32,
    "name": "ml.m5.2xlarge",
    "vcpuNum": 8
   },
   {
    "_defaultOrder": 7,
    "_isFastLaunch": false,
    "category": "General purpose",
    "gpuNum": 0,
    "hideHardwareSpecs": false,
    "memoryGiB": 64,
    "name": "ml.m5.4xlarge",
    "vcpuNum": 16
   },
   {
    "_defaultOrder": 8,
    "_isFastLaunch": false,
    "category": "General purpose",
    "gpuNum": 0,
    "hideHardwareSpecs": false,
    "memoryGiB": 128,
    "name": "ml.m5.8xlarge",
    "vcpuNum": 32
   },
   {
    "_defaultOrder": 9,
    "_isFastLaunch": false,
    "category": "General purpose",
    "gpuNum": 0,
    "hideHardwareSpecs": false,
    "memoryGiB": 192,
    "name": "ml.m5.12xlarge",
    "vcpuNum": 48
   },
   {
    "_defaultOrder": 10,
    "_isFastLaunch": false,
    "category": "General purpose",
    "gpuNum": 0,
    "hideHardwareSpecs": false,
    "memoryGiB": 256,
    "name": "ml.m5.16xlarge",
    "vcpuNum": 64
   },
   {
    "_defaultOrder": 11,
    "_isFastLaunch": false,
    "category": "General purpose",
    "gpuNum": 0,
    "hideHardwareSpecs": false,
    "memoryGiB": 384,
    "name": "ml.m5.24xlarge",
    "vcpuNum": 96
   },
   {
    "_defaultOrder": 12,
    "_isFastLaunch": false,
    "category": "General purpose",
    "gpuNum": 0,
    "hideHardwareSpecs": false,
    "memoryGiB": 8,
    "name": "ml.m5d.large",
    "vcpuNum": 2
   },
   {
    "_defaultOrder": 13,
    "_isFastLaunch": false,
    "category": "General purpose",
    "gpuNum": 0,
    "hideHardwareSpecs": false,
    "memoryGiB": 16,
    "name": "ml.m5d.xlarge",
    "vcpuNum": 4
   },
   {
    "_defaultOrder": 14,
    "_isFastLaunch": false,
    "category": "General purpose",
    "gpuNum": 0,
    "hideHardwareSpecs": false,
    "memoryGiB": 32,
    "name": "ml.m5d.2xlarge",
    "vcpuNum": 8
   },
   {
    "_defaultOrder": 15,
    "_isFastLaunch": false,
    "category": "General purpose",
    "gpuNum": 0,
    "hideHardwareSpecs": false,
    "memoryGiB": 64,
    "name": "ml.m5d.4xlarge",
    "vcpuNum": 16
   },
   {
    "_defaultOrder": 16,
    "_isFastLaunch": false,
    "category": "General purpose",
    "gpuNum": 0,
    "hideHardwareSpecs": false,
    "memoryGiB": 128,
    "name": "ml.m5d.8xlarge",
    "vcpuNum": 32
   },
   {
    "_defaultOrder": 17,
    "_isFastLaunch": false,
    "category": "General purpose",
    "gpuNum": 0,
    "hideHardwareSpecs": false,
    "memoryGiB": 192,
    "name": "ml.m5d.12xlarge",
    "vcpuNum": 48
   },
   {
    "_defaultOrder": 18,
    "_isFastLaunch": false,
    "category": "General purpose",
    "gpuNum": 0,
    "hideHardwareSpecs": false,
    "memoryGiB": 256,
    "name": "ml.m5d.16xlarge",
    "vcpuNum": 64
   },
   {
    "_defaultOrder": 19,
    "_isFastLaunch": false,
    "category": "General purpose",
    "gpuNum": 0,
    "hideHardwareSpecs": false,
    "memoryGiB": 384,
    "name": "ml.m5d.24xlarge",
    "vcpuNum": 96
   },
   {
    "_defaultOrder": 20,
    "_isFastLaunch": false,
    "category": "General purpose",
    "gpuNum": 0,
    "hideHardwareSpecs": true,
    "memoryGiB": 0,
    "name": "ml.geospatial.interactive",
    "supportedImageNames": [
     "sagemaker-geospatial-v1-0"
    ],
    "vcpuNum": 0
   },
   {
    "_defaultOrder": 21,
    "_isFastLaunch": true,
    "category": "Compute optimized",
    "gpuNum": 0,
    "hideHardwareSpecs": false,
    "memoryGiB": 4,
    "name": "ml.c5.large",
    "vcpuNum": 2
   },
   {
    "_defaultOrder": 22,
    "_isFastLaunch": false,
    "category": "Compute optimized",
    "gpuNum": 0,
    "hideHardwareSpecs": false,
    "memoryGiB": 8,
    "name": "ml.c5.xlarge",
    "vcpuNum": 4
   },
   {
    "_defaultOrder": 23,
    "_isFastLaunch": false,
    "category": "Compute optimized",
    "gpuNum": 0,
    "hideHardwareSpecs": false,
    "memoryGiB": 16,
    "name": "ml.c5.2xlarge",
    "vcpuNum": 8
   },
   {
    "_defaultOrder": 24,
    "_isFastLaunch": false,
    "category": "Compute optimized",
    "gpuNum": 0,
    "hideHardwareSpecs": false,
    "memoryGiB": 32,
    "name": "ml.c5.4xlarge",
    "vcpuNum": 16
   },
   {
    "_defaultOrder": 25,
    "_isFastLaunch": false,
    "category": "Compute optimized",
    "gpuNum": 0,
    "hideHardwareSpecs": false,
    "memoryGiB": 72,
    "name": "ml.c5.9xlarge",
    "vcpuNum": 36
   },
   {
    "_defaultOrder": 26,
    "_isFastLaunch": false,
    "category": "Compute optimized",
    "gpuNum": 0,
    "hideHardwareSpecs": false,
    "memoryGiB": 96,
    "name": "ml.c5.12xlarge",
    "vcpuNum": 48
   },
   {
    "_defaultOrder": 27,
    "_isFastLaunch": false,
    "category": "Compute optimized",
    "gpuNum": 0,
    "hideHardwareSpecs": false,
    "memoryGiB": 144,
    "name": "ml.c5.18xlarge",
    "vcpuNum": 72
   },
   {
    "_defaultOrder": 28,
    "_isFastLaunch": false,
    "category": "Compute optimized",
    "gpuNum": 0,
    "hideHardwareSpecs": false,
    "memoryGiB": 192,
    "name": "ml.c5.24xlarge",
    "vcpuNum": 96
   },
   {
    "_defaultOrder": 29,
    "_isFastLaunch": true,
    "category": "Accelerated computing",
    "gpuNum": 1,
    "hideHardwareSpecs": false,
    "memoryGiB": 16,
    "name": "ml.g4dn.xlarge",
    "vcpuNum": 4
   },
   {
    "_defaultOrder": 30,
    "_isFastLaunch": false,
    "category": "Accelerated computing",
    "gpuNum": 1,
    "hideHardwareSpecs": false,
    "memoryGiB": 32,
    "name": "ml.g4dn.2xlarge",
    "vcpuNum": 8
   },
   {
    "_defaultOrder": 31,
    "_isFastLaunch": false,
    "category": "Accelerated computing",
    "gpuNum": 1,
    "hideHardwareSpecs": false,
    "memoryGiB": 64,
    "name": "ml.g4dn.4xlarge",
    "vcpuNum": 16
   },
   {
    "_defaultOrder": 32,
    "_isFastLaunch": false,
    "category": "Accelerated computing",
    "gpuNum": 1,
    "hideHardwareSpecs": false,
    "memoryGiB": 128,
    "name": "ml.g4dn.8xlarge",
    "vcpuNum": 32
   },
   {
    "_defaultOrder": 33,
    "_isFastLaunch": false,
    "category": "Accelerated computing",
    "gpuNum": 4,
    "hideHardwareSpecs": false,
    "memoryGiB": 192,
    "name": "ml.g4dn.12xlarge",
    "vcpuNum": 48
   },
   {
    "_defaultOrder": 34,
    "_isFastLaunch": false,
    "category": "Accelerated computing",
    "gpuNum": 1,
    "hideHardwareSpecs": false,
    "memoryGiB": 256,
    "name": "ml.g4dn.16xlarge",
    "vcpuNum": 64
   },
   {
    "_defaultOrder": 35,
    "_isFastLaunch": false,
    "category": "Accelerated computing",
    "gpuNum": 1,
    "hideHardwareSpecs": false,
    "memoryGiB": 61,
    "name": "ml.p3.2xlarge",
    "vcpuNum": 8
   },
   {
    "_defaultOrder": 36,
    "_isFastLaunch": false,
    "category": "Accelerated computing",
    "gpuNum": 4,
    "hideHardwareSpecs": false,
    "memoryGiB": 244,
    "name": "ml.p3.8xlarge",
    "vcpuNum": 32
   },
   {
    "_defaultOrder": 37,
    "_isFastLaunch": false,
    "category": "Accelerated computing",
    "gpuNum": 8,
    "hideHardwareSpecs": false,
    "memoryGiB": 488,
    "name": "ml.p3.16xlarge",
    "vcpuNum": 64
   },
   {
    "_defaultOrder": 38,
    "_isFastLaunch": false,
    "category": "Accelerated computing",
    "gpuNum": 8,
    "hideHardwareSpecs": false,
    "memoryGiB": 768,
    "name": "ml.p3dn.24xlarge",
    "vcpuNum": 96
   },
   {
    "_defaultOrder": 39,
    "_isFastLaunch": false,
    "category": "Memory Optimized",
    "gpuNum": 0,
    "hideHardwareSpecs": false,
    "memoryGiB": 16,
    "name": "ml.r5.large",
    "vcpuNum": 2
   },
   {
    "_defaultOrder": 40,
    "_isFastLaunch": false,
    "category": "Memory Optimized",
    "gpuNum": 0,
    "hideHardwareSpecs": false,
    "memoryGiB": 32,
    "name": "ml.r5.xlarge",
    "vcpuNum": 4
   },
   {
    "_defaultOrder": 41,
    "_isFastLaunch": false,
    "category": "Memory Optimized",
    "gpuNum": 0,
    "hideHardwareSpecs": false,
    "memoryGiB": 64,
    "name": "ml.r5.2xlarge",
    "vcpuNum": 8
   },
   {
    "_defaultOrder": 42,
    "_isFastLaunch": false,
    "category": "Memory Optimized",
    "gpuNum": 0,
    "hideHardwareSpecs": false,
    "memoryGiB": 128,
    "name": "ml.r5.4xlarge",
    "vcpuNum": 16
   },
   {
    "_defaultOrder": 43,
    "_isFastLaunch": false,
    "category": "Memory Optimized",
    "gpuNum": 0,
    "hideHardwareSpecs": false,
    "memoryGiB": 256,
    "name": "ml.r5.8xlarge",
    "vcpuNum": 32
   },
   {
    "_defaultOrder": 44,
    "_isFastLaunch": false,
    "category": "Memory Optimized",
    "gpuNum": 0,
    "hideHardwareSpecs": false,
    "memoryGiB": 384,
    "name": "ml.r5.12xlarge",
    "vcpuNum": 48
   },
   {
    "_defaultOrder": 45,
    "_isFastLaunch": false,
    "category": "Memory Optimized",
    "gpuNum": 0,
    "hideHardwareSpecs": false,
    "memoryGiB": 512,
    "name": "ml.r5.16xlarge",
    "vcpuNum": 64
   },
   {
    "_defaultOrder": 46,
    "_isFastLaunch": false,
    "category": "Memory Optimized",
    "gpuNum": 0,
    "hideHardwareSpecs": false,
    "memoryGiB": 768,
    "name": "ml.r5.24xlarge",
    "vcpuNum": 96
   },
   {
    "_defaultOrder": 47,
    "_isFastLaunch": false,
    "category": "Accelerated computing",
    "gpuNum": 1,
    "hideHardwareSpecs": false,
    "memoryGiB": 16,
    "name": "ml.g5.xlarge",
    "vcpuNum": 4
   },
   {
    "_defaultOrder": 48,
    "_isFastLaunch": false,
    "category": "Accelerated computing",
    "gpuNum": 1,
    "hideHardwareSpecs": false,
    "memoryGiB": 32,
    "name": "ml.g5.2xlarge",
    "vcpuNum": 8
   },
   {
    "_defaultOrder": 49,
    "_isFastLaunch": false,
    "category": "Accelerated computing",
    "gpuNum": 1,
    "hideHardwareSpecs": false,
    "memoryGiB": 64,
    "name": "ml.g5.4xlarge",
    "vcpuNum": 16
   },
   {
    "_defaultOrder": 50,
    "_isFastLaunch": false,
    "category": "Accelerated computing",
    "gpuNum": 1,
    "hideHardwareSpecs": false,
    "memoryGiB": 128,
    "name": "ml.g5.8xlarge",
    "vcpuNum": 32
   },
   {
    "_defaultOrder": 51,
    "_isFastLaunch": false,
    "category": "Accelerated computing",
    "gpuNum": 1,
    "hideHardwareSpecs": false,
    "memoryGiB": 256,
    "name": "ml.g5.16xlarge",
    "vcpuNum": 64
   },
   {
    "_defaultOrder": 52,
    "_isFastLaunch": false,
    "category": "Accelerated computing",
    "gpuNum": 4,
    "hideHardwareSpecs": false,
    "memoryGiB": 192,
    "name": "ml.g5.12xlarge",
    "vcpuNum": 48
   },
   {
    "_defaultOrder": 53,
    "_isFastLaunch": false,
    "category": "Accelerated computing",
    "gpuNum": 4,
    "hideHardwareSpecs": false,
    "memoryGiB": 384,
    "name": "ml.g5.24xlarge",
    "vcpuNum": 96
   },
   {
    "_defaultOrder": 54,
    "_isFastLaunch": false,
    "category": "Accelerated computing",
    "gpuNum": 8,
    "hideHardwareSpecs": false,
    "memoryGiB": 768,
    "name": "ml.g5.48xlarge",
    "vcpuNum": 192
   },
   {
    "_defaultOrder": 55,
    "_isFastLaunch": false,
    "category": "Accelerated computing",
    "gpuNum": 8,
    "hideHardwareSpecs": false,
    "memoryGiB": 1152,
    "name": "ml.p4d.24xlarge",
    "vcpuNum": 96
   },
   {
    "_defaultOrder": 56,
    "_isFastLaunch": false,
    "category": "Accelerated computing",
    "gpuNum": 8,
    "hideHardwareSpecs": false,
    "memoryGiB": 1152,
    "name": "ml.p4de.24xlarge",
    "vcpuNum": 96
   }
  ],
  "instance_type": "ml.t3.medium",
  "kernelspec": {
   "display_name": "Python 3 (Data Science 3.0)",
   "language": "python",
   "name": "python3__SAGEMAKER_INTERNAL__arn:aws:sagemaker:eu-west-1:470317259841:image/sagemaker-data-science-310-v1"
  },
  "language_info": {
   "codemirror_mode": {
    "name": "ipython",
    "version": 3
   },
   "file_extension": ".py",
   "mimetype": "text/x-python",
   "name": "python",
   "nbconvert_exporter": "python",
   "pygments_lexer": "ipython3",
   "version": "3.10.6"
  }
 },
 "nbformat": 4,
 "nbformat_minor": 5
}
